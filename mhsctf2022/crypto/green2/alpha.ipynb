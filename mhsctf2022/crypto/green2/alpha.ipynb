{
 "cells": [
  {
   "cell_type": "code",
   "execution_count": 216,
   "metadata": {},
   "outputs": [
    {
     "name": "stdout",
     "output_type": "stream",
     "text": [
      "len: 39\n",
      "0\n",
      "16\n",
      "20\n",
      "37\n",
      "37\n"
     ]
    },
    {
     "data": {
      "text/plain": [
       "'flag{88e9zdpg6am5k6_'"
      ]
     },
     "execution_count": 216,
     "metadata": {},
     "output_type": "execute_result"
    }
   ],
   "source": [
    "alphabet = \"abcdefghijklmnopqrstuvwxyz0123456789{}_\"\n",
    "betalpha = \"vxotbj9a8yqp7n5mh1rzwcd6gfiks3uel240{}_\"\n",
    "ciphertext = \"jkwb44pg26teiu}78uu{\"\n",
    "def enc(s):\n",
    "    r = \"\"\n",
    "    for c in s:\n",
    "        r += betalpha[alphabet.find(c)]\n",
    "    return r\n",
    "def dec_(s):\n",
    "    r = \"\"\n",
    "    for c in s:\n",
    "        r += alphabet[betalpha.find(c)]\n",
    "    return r\n",
    "def dec(s,tab):\n",
    "    r = \"\"\n",
    "    for i,c in enumerate(s):\n",
    "        r += alphabet[(39+betalpha.find(c)-tab[i%len(tab)])%len(alphabet)]\n",
    "    return r\n",
    "\n",
    "def diff(c1,c2):\n",
    "    r = \"\"\n",
    "    for i in range(0,len(alphabet)):\n",
    "        t = betalpha[(alphabet.find(c1)+i)%len(alphabet)]\n",
    "        if t == c2:\n",
    "            return i%len(alphabet)\n",
    "    return -1\n",
    "def idiff(c1,c2):\n",
    "    r = \"\"\n",
    "    for i in range(0,len(alphabet)):\n",
    "        t = alphabet[(betalpha.find(c1)+i)%len(alphabet)]\n",
    "        if t == c2:\n",
    "            return i%len(alphabet)\n",
    "    return -1\n",
    "print('len: ' + str(len(alphabet)))\n",
    "print(diff('f','j'))\n",
    "print(diff('l','k'))\n",
    "print(diff('a','w'))\n",
    "print(diff('g','b'))\n",
    "print(diff('{','4'))\n",
    "dec(ciphertext,[0,16,20,37,37,0,16,20,37,37,0,16,20,37,37,0,16,20,37,37])"
   ]
  },
  {
   "cell_type": "code",
   "execution_count": 225,
   "metadata": {},
   "outputs": [
    {
     "name": "stdout",
     "output_type": "stream",
     "text": [
      "0\n",
      "23\n",
      "19\n",
      "2\n",
      "2\n"
     ]
    },
    {
     "data": {
      "text/plain": [
       "35"
      ]
     },
     "execution_count": 225,
     "metadata": {},
     "output_type": "execute_result"
    }
   ],
   "source": [
    "\n",
    "print(idiff('j','f'))\n",
    "print(idiff('k','l'))\n",
    "print(idiff('w','a'))\n",
    "print(idiff('b','g'))\n",
    "print(idiff('4','{'))\n",
    "(7952)%39"
   ]
  },
  {
   "cell_type": "code",
   "execution_count": 150,
   "metadata": {},
   "outputs": [
    {
     "name": "stderr",
     "output_type": "stream",
     "text": [
      "\r",
      "  0%|          | 0/255 [00:00<?, ?it/s]"
     ]
    },
    {
     "name": "stdout",
     "output_type": "stream",
     "text": [
      "[16 31 32 32  2  3 16 31 18 31 15 16 28 21  3 25]\n"
     ]
    },
    {
     "name": "stderr",
     "output_type": "stream",
     "text": [
      "/usr/lib/python3.7/site-packages/ipykernel_launcher.py:12: RuntimeWarning: divide by zero encountered in remainder\n",
      "  if sys.path[0] == '':\n",
      "100%|██████████| 255/255 [07:20<00:00,  1.73s/it]\n"
     ]
    }
   ],
   "source": [
    "import numpy as np\n",
    "from tqdm import tqdm\n",
    "img = np.array([0x10,0x1f, 0x20, 0x20,\n",
    "0x02 ,0x03 ,0x10 ,0x1f\n",
    ",0x12 ,0x1f ,0x0f ,0x10\n",
    ",0x1c ,0x15 ,0x03 ,0x19])\n",
    "img2=(img)%39\n",
    "print(img2)\n",
    "for r in tqdm(range(0,255)):\n",
    "    for j in range(0,255):\n",
    "        for i in range(0,255):\n",
    "            s=dec(ciphertext,(img2*j+i)%r)\n",
    "            if s.startswith(\"flag\"):\n",
    "                print(s)"
   ]
  },
  {
   "cell_type": "code",
   "execution_count": 177,
   "metadata": {},
   "outputs": [
    {
     "name": "stdout",
     "output_type": "stream",
     "text": [
      "0\n",
      "34\n"
     ]
    }
   ],
   "source": [
    "i  =np.array([16+0,31+28,32+28+16,32+16+16])\n",
    "print((16+3+31+28)%39)\n",
    "print((31+2+15+25)%39)"
   ]
  },
  {
   "cell_type": "code",
   "execution_count": 209,
   "metadata": {},
   "outputs": [
    {
     "name": "stdout",
     "output_type": "stream",
     "text": [
      "(16, 2, 15, 3)\n",
      "(16, 16, 15, 25)\n",
      "(31, 2, 18, 21)\n",
      "(31, 31, 18, 28)\n",
      "(32, 3, 16, 21)\n",
      "(32, 3, 16, 21)\n"
     ]
    }
   ],
   "source": [
    "ig = np.array([0x10,0x1f, 0x20, 0x20,\n",
    "0x02 ,0x03 ,0x10 ,0x1f\n",
    ",0x12 ,0x1f ,0x0f ,0x10\n",
    ",0x1c ,0x15 ,0x03 ,0x19])\n",
    "for i in range(0,4):\n",
    "    for j in range(4,8):\n",
    "        for k in range(8,12):\n",
    "            for l in range(12,16):\n",
    "                c = (ig[i]+ig[j]+ig[k]+ig[l])%36\n",
    "                if c == 0:\n",
    "                    #print((i,j,k,l))\n",
    "                    print((ig[i],ig[j],ig[k],ig[l]))\n",
    "                    #print((ig[i+1]+ig[j+1]+ig[k+1]+ig[(l+1)%16])%39)"
   ]
  },
  {
   "cell_type": "code",
   "execution_count": 211,
   "metadata": {},
   "outputs": [
    {
     "name": "stdout",
     "output_type": "stream",
     "text": [
      "33\n"
     ]
    }
   ],
   "source": [
    "print((16+16+16+21)%36)"
   ]
  },
  {
   "cell_type": "code",
   "execution_count": 210,
   "metadata": {},
   "outputs": [
    {
     "name": "stdout",
     "output_type": "stream",
     "text": [
      "6\n"
     ]
    }
   ],
   "source": [
    "print((16+25+16+21)%36)"
   ]
  },
  {
   "cell_type": "code",
   "execution_count": null,
   "metadata": {},
   "outputs": [],
   "source": []
  }
 ],
 "metadata": {
  "kernelspec": {
   "display_name": "Python 3",
   "language": "python",
   "name": "python3"
  },
  "language_info": {
   "codemirror_mode": {
    "name": "ipython",
    "version": 3
   },
   "file_extension": ".py",
   "mimetype": "text/x-python",
   "name": "python",
   "nbconvert_exporter": "python",
   "pygments_lexer": "ipython3",
   "version": "3.7.9"
  }
 },
 "nbformat": 4,
 "nbformat_minor": 4
}
