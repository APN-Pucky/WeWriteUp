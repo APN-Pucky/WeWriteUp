{
 "cells": [
  {
   "cell_type": "code",
   "execution_count": 6,
   "metadata": {},
   "outputs": [
    {
     "name": "stdout",
     "output_type": "stream",
     "text": [
      "<class 'numpy.ndarray'>\n",
      "(400, 400, 4)\n",
      "<class 'PIL.Image.Image'>\n",
      "RGBA\n",
      "(400, 400)\n"
     ]
    },
    {
     "data": {
      "text/plain": [
       "100"
      ]
     },
     "execution_count": 6,
     "metadata": {},
     "output_type": "execute_result"
    }
   ],
   "source": [
    "from PIL import Image\n",
    "\n",
    "from numpy import asarray\n",
    "\n",
    "# load the image\n",
    "\n",
    "image = Image.open('c420629a20ab083202fddd39f722b41f.png')\n",
    "\n",
    "# convert image to numpy array\n",
    "\n",
    "data = asarray(image)\n",
    "cp = data.copy()\n",
    "cp.setflags(write=1)\n",
    "cp[cp==254] = cp[cp == 254]-254\n",
    "\n",
    "\n",
    "print(type(data))\n",
    "\n",
    "# summarize shape\n",
    "\n",
    "print(data.shape)\n",
    "\n",
    "\n",
    "# create Pillow image\n",
    "\n",
    "image2 = Image.fromarray(cp)\n",
    "\n",
    "print(type(image2))\n",
    "\n",
    "\n",
    "# summarize image details\n",
    "\n",
    "print(image2.mode)\n",
    "\n",
    "print(image2.size)\n",
    "image2.show()\n",
    "range(1,101)[-1]"
   ]
  },
  {
   "cell_type": "code",
   "execution_count": 5,
   "metadata": {
    "scrolled": false
   },
   "outputs": [
    {
     "data": {
      "text/plain": [
       "array([[[254, 254, 255, 255],\n",
       "        [254, 254, 254, 255],\n",
       "        [255, 254, 254, 255],\n",
       "        ...,\n",
       "        [254, 254, 254, 255],\n",
       "        [254, 254, 254, 255],\n",
       "        [254, 254, 254, 255]],\n",
       "\n",
       "       [[254, 254, 254, 255],\n",
       "        [254, 254, 254, 255],\n",
       "        [254, 254, 254, 255],\n",
       "        ...,\n",
       "        [254, 254, 254, 255],\n",
       "        [254, 254, 254, 255],\n",
       "        [254, 254, 254, 255]],\n",
       "\n",
       "       [[254, 254, 254, 255],\n",
       "        [254, 254, 254, 255],\n",
       "        [254, 254, 254, 255],\n",
       "        ...,\n",
       "        [254, 254, 254, 255],\n",
       "        [254, 254, 254, 255],\n",
       "        [254, 254, 254, 255]],\n",
       "\n",
       "       ...,\n",
       "\n",
       "       [[254, 254, 254, 255],\n",
       "        [254, 254, 254, 255],\n",
       "        [254, 254, 254, 255],\n",
       "        ...,\n",
       "        [254, 254, 254, 255],\n",
       "        [254, 254, 254, 255],\n",
       "        [254, 254, 254, 255]],\n",
       "\n",
       "       [[254, 254, 254, 255],\n",
       "        [254, 254, 254, 255],\n",
       "        [254, 254, 254, 255],\n",
       "        ...,\n",
       "        [254, 254, 254, 255],\n",
       "        [254, 254, 254, 255],\n",
       "        [254, 254, 254, 255]],\n",
       "\n",
       "       [[254, 254, 254, 255],\n",
       "        [254, 254, 254, 255],\n",
       "        [254, 254, 254, 255],\n",
       "        ...,\n",
       "        [254, 254, 254, 255],\n",
       "        [254, 254, 254, 255],\n",
       "        [254, 254, 254, 255]]], dtype=uint8)"
      ]
     },
     "execution_count": 5,
     "metadata": {},
     "output_type": "execute_result"
    }
   ],
   "source": [
    "cp"
   ]
  },
  {
   "cell_type": "code",
   "execution_count": 3,
   "metadata": {},
   "outputs": [
    {
     "data": {
      "text/plain": [
       "<matplotlib.image.AxesImage at 0x7f23f2b727d0>"
      ]
     },
     "execution_count": 3,
     "metadata": {},
     "output_type": "execute_result"
    },
    {
     "data": {
      "image/png": "[encoded data removed]",
      "text/plain": [
       "<Figure size 1440x2400 with 1 Axes>"
      ]
     },
     "metadata": {
      "needs_background": "light"
     },
     "output_type": "display_data"
    }
   ],
   "source": [
    "import matplotlib.pyplot as plt\n",
    "plt.figure(figsize=(18, 30), dpi=80)\n",
    "plt.imshow(cp[0:10,0:255], cmap='gray', vmin=0, vmax=255)"
   ]
  },
  {
   "cell_type": "code",
   "execution_count": null,
   "metadata": {},
   "outputs": [],
   "source": []
  }
 ],
 "metadata": {
  "kernelspec": {
   "display_name": "Python 3",
   "language": "python",
   "name": "python3"
  },
  "language_info": {
   "codemirror_mode": {
    "name": "ipython",
    "version": 3
   },
   "file_extension": ".py",
   "mimetype": "text/x-python",
   "name": "python",
   "nbconvert_exporter": "python",
   "pygments_lexer": "ipython3",
   "version": "3.7.9"
  }
 },
 "nbformat": 4,
 "nbformat_minor": 4
}
