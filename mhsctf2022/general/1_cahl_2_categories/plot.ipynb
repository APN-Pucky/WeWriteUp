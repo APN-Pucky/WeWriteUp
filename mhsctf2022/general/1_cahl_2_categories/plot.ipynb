{
 "cells": [
  {
   "cell_type": "code",
   "execution_count": 9,
   "metadata": {},
   "outputs": [],
   "source": [
    "def glorp(n):\n",
    "    g = list(format(n, \"08b\"))\n",
    "    for i in range(len(g)):\n",
    "        t = g[i]\n",
    "        g[i] = g[(i * 332 + 6) % 8]\n",
    "        g[(i * 332 + 6) % 8] = t\n",
    "    return int(''.join(g), 2)\n",
    "\n",
    "lookup = [glorp(i) for i in range(256)]\n",
    "inv_lookup = [None]*len(lookup)\n",
    "for i in lookup:\n",
    "    inv_lookup[glorp(i)] = i\n",
    "#for i in range(256):\n",
    "#    print(i ,lookup[i], inv_lookup[lookup[i]])"
   ]
  },
  {
   "cell_type": "code",
   "execution_count": 17,
   "metadata": {},
   "outputs": [],
   "source": [
    "from PIL import Image\n",
    "img = Image.open(\"a6bfb21ffe787dd82be556763c8afd7f.png\")\n",
    "pix = img.load()\n",
    "\n",
    "for i in range(img.size[0]):\n",
    "    for j in range(img.size[1]):\n",
    "        pix[i, j] = (inv_lookup[pix[i, j][0]], inv_lookup[pix[i, j][1]], inv_lookup[pix[i, j][2]])\n",
    "img.show()\n",
    "img.save(\"flag.png\")"
   ]
  },
  {
   "cell_type": "code",
   "execution_count": 15,
   "metadata": {},
   "outputs": [
    {
     "data": {
      "text/plain": [
       "1"
      ]
     },
     "execution_count": 15,
     "metadata": {},
     "output_type": "execute_result"
    }
   ],
   "source": []
  },
  {
   "cell_type": "code",
   "execution_count": null,
   "metadata": {},
   "outputs": [],
   "source": []
  }
 ],
 "metadata": {
  "kernelspec": {
   "display_name": "Python 3",
   "language": "python",
   "name": "python3"
  },
  "language_info": {
   "codemirror_mode": {
    "name": "ipython",
    "version": 3
   },
   "file_extension": ".py",
   "mimetype": "text/x-python",
   "name": "python",
   "nbconvert_exporter": "python",
   "pygments_lexer": "ipython3",
   "version": "3.7.9"
  }
 },
 "nbformat": 4,
 "nbformat_minor": 4
}
